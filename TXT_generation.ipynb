{
  "cells": [
    {
      "cell_type": "markdown",
      "metadata": {
        "id": "view-in-github",
        "colab_type": "text"
      },
      "source": [
        "<a href=\"https://colab.research.google.com/github/IliyaFrahani/SimpleTextGeneration/blob/main/TXT_generation.ipynb\" target=\"_parent\"><img src=\"https://colab.research.google.com/assets/colab-badge.svg\" alt=\"Open In Colab\"/></a>"
      ]
    },
    {
      "cell_type": "markdown",
      "metadata": {
        "id": "K3R2ZeQeolXP"
      },
      "source": [
        "# ***text generation using keras and tensorflow*** \n",
        "* data set :\n",
        "    https://drive.google.com/file/d/1nhThs5ya5KQ77Nxyghm_Aoi4fo06zWYI/view?usp=share_link\n",
        "    \n",
        "    https://drive.google.com/file/d/1dtmFb8dxjVRS_-pI6dse8nngu0JmwGBO/view?usp=share_link\n",
        "\n",
        "    https://drive.google.com/file/d/1Ca4gXHAfCRzhTnm2f0FSM6OwVq5N5kmc/view?usp=share_link\n",
        "\n",
        "    https://drive.google.com/file/d/17JQzRfbh7Odh16IjZdRhl3DlDpC1ISCy/view?usp=share_link\n",
        "\n",
        "# *Write by iliya farahani*\n",
        "\n",
        "* data sets lang :\n",
        "  \n",
        "  persian\n",
        "\n",
        "  english"
      ]
    },
    {
      "cell_type": "markdown",
      "metadata": {
        "id": "y2pv4dtP0Jcp"
      },
      "source": [
        "# ***Importing Library's :***"
      ]
    },
    {
      "cell_type": "code",
      "execution_count": null,
      "metadata": {
        "id": "Rg3jJqiY0c2I"
      },
      "outputs": [],
      "source": [
        "# import lib\n",
        "\n",
        "import numpy as np\n",
        "import tensorflow as tf\n",
        "from tensorflow.keras.preprocessing.text import Tokenizer\n",
        "import nltk\n",
        "import json\n",
        "import re\n",
        "from tensorflow.keras.models import Sequential\n",
        "from tensorflow.keras.layers import Embedding, LSTM, Dense , Dropout\n",
        "from keras.callbacks import TensorBoard, EarlyStopping\n"
      ]
    },
    {
      "cell_type": "markdown",
      "metadata": {
        "id": "K3kOhYcR1wYe"
      },
      "source": [
        "# ***load random sentences json file dataset :***"
      ]
    },
    {
      "cell_type": "code",
      "execution_count": null,
      "metadata": {
        "id": "ySQ9wy682R4T"
      },
      "outputs": [],
      "source": [
        "# load json file\n",
        "data = open(\"/content/first-rows.json\")\n",
        "data = json.load(data)\n",
        "data = (data[\"rows\"])\n",
        "\n",
        "# func for cleaning data\n",
        "def clean(text):\n",
        "    text = re.sub('[0-9]+.\\t','',str(text))\n",
        "    text = re.sub('\\n ','',str(text))\n",
        "    text = re.sub('\\n',' ',str(text))\n",
        "    text = re.sub(\"'s\",'',str(text))\n",
        "    text = re.sub(\"-\",' ',str(text))\n",
        "    text = re.sub(\"— \",'',str(text))\n",
        "    text = re.sub('\\\"','',str(text))\n",
        "    text = re.sub(\"Mr\\.\",'Mr',str(text))\n",
        "    text = re.sub(\"Mrs\\.\",'Mrs',str(text))\n",
        "    text = re.sub(\"[\\(\\[].*?[\\)\\]]\", \"\", str(text))\n",
        "    return text\n",
        "\n",
        "# extrac just anserws from questions and anserws\n",
        "just_anserws = \"\"\n",
        "for i in data : \n",
        "  for j in (re.split(\"Human:\", i[\"row\"][\"texts\"]))[1::] : \n",
        "      j = clean(j)\n",
        "      just_anserws += j.split(\"Assistant:\")[1] + \" \"\n",
        "data = just_anserws\n"
      ]
    },
    {
      "cell_type": "markdown",
      "metadata": {
        "id": "Wny8kKcW_a0H"
      },
      "source": [
        "# ***Making the data easier for the model :***\n"
      ]
    },
    {
      "cell_type": "code",
      "execution_count": null,
      "metadata": {
        "id": "eCAC5psL_1EH"
      },
      "outputs": [],
      "source": [
        "# create a tokenizer and fit it on training data\n",
        "tokenizer = Tokenizer()\n",
        "tokenizer.fit_on_texts([data])\n",
        "\n",
        "# convert texts to sequences\n",
        "encoded_text = tokenizer.texts_to_sequences([data])[0]\n",
        "\n",
        "Hi my name is iliya\n",
        "\n",
        "# normalize the data\n",
        "tf.keras.utils.normalize(encoded_text)\n",
        "\n",
        "# define the length of input sequences\n",
        "seq_length = 10\n",
        "\n",
        "input_sequences = []\n",
        "output_sequences = []\n",
        "for i in range(seq_length, len(encoded_text)):\n",
        "    input_sequences.append(encoded_text[i-seq_length:i])\n",
        "    output_sequences.append(encoded_text[i])\n",
        "    "
      ]
    },
    {
      "cell_type": "markdown",
      "metadata": {
        "id": "mFmVo5WcBHr2"
      },
      "source": [
        "# ***enable tracking experiment metrics :***"
      ]
    },
    {
      "cell_type": "code",
      "execution_count": null,
      "metadata": {
        "id": "4tHiB-ayBPW-"
      },
      "outputs": [],
      "source": [
        "# enable tracking experiment metrics\n",
        "\n",
        "tb_callback = TensorBoard(log_dir='./logs', histogram_freq=1, write_graph=True, write_images=True)\n",
        "earlystop_callback = EarlyStopping(monitor='val_loss', min_delta=0.0001, patience=5, verbose=1, mode='auto')\n"
      ]
    },
    {
      "cell_type": "markdown",
      "metadata": {
        "id": "LPSvZ2R0Bau3"
      },
      "source": [
        "# ***make nural network model :***"
      ]
    },
    {
      "cell_type": "code",
      "execution_count": null,
      "metadata": {
        "id": "w-DbMHJ8B_vx"
      },
      "outputs": [],
      "source": [
        "# define the size of vocabulary\n",
        "vocab_size = len(tokenizer.word_index) + 1\n",
        "\n",
        "# define the model for training on data\n",
        "model = Sequential()\n",
        "model.add(Embedding(vocab_size , 10 , input_length = seq_length))\n",
        "model.add(Dropout(0.3))\n",
        "model.add(LSTM(250, return_sequences=True))\n",
        "model.add(Dropout(0.3))\n",
        "model.add(LSTM(250))\n",
        "model.add(Dropout(0.3))\n",
        "model.add(Dense(vocab_size , activation = \"softmax\"))\n"
      ]
    },
    {
      "cell_type": "code",
      "execution_count": null,
      "metadata": {
        "id": "gKQcN6tuEC1B"
      },
      "outputs": [],
      "source": [
        "# compile the model for checking the format errors\n",
        "model.compile(loss='sparse_categorical_crossentropy',metrics = [\"accuracy\"], optimizer='adam')\n"
      ]
    },
    {
      "cell_type": "markdown",
      "metadata": {
        "id": "mLhgFAwBDWM5"
      },
      "source": [
        "# ***Fit the data on model and start training :***"
      ]
    },
    {
      "cell_type": "code",
      "execution_count": null,
      "metadata": {
        "colab": {
          "background_save": true,
          "base_uri": "https://localhost:8080/"
        },
        "id": "MzBYGejrrJnu",
        "outputId": "f1484815-0c80-451a-f7af-8d4ce93e2f3b"
      },
      "outputs": [
        {
          "name": "stdout",
          "output_type": "stream",
          "text": [
            "Epoch 1/100\n",
            "389/389 [==============================] - ETA: 0s - loss: 6.6454 - accuracy: 0.0452"
          ]
        },
        {
          "name": "stderr",
          "output_type": "stream",
          "text": [
            "WARNING:tensorflow:Early stopping conditioned on metric `val_loss` which is not available. Available metrics are: loss,accuracy\n"
          ]
        },
        {
          "name": "stdout",
          "output_type": "stream",
          "text": [
            "389/389 [==============================] - 44s 103ms/step - loss: 6.6454 - accuracy: 0.0452\n",
            "Epoch 2/100\n",
            "389/389 [==============================] - ETA: 0s - loss: 6.4874 - accuracy: 0.0465"
          ]
        },
        {
          "name": "stderr",
          "output_type": "stream",
          "text": [
            "WARNING:tensorflow:Early stopping conditioned on metric `val_loss` which is not available. Available metrics are: loss,accuracy\n"
          ]
        },
        {
          "name": "stdout",
          "output_type": "stream",
          "text": [
            "389/389 [==============================] - 40s 102ms/step - loss: 6.4874 - accuracy: 0.0465\n",
            "Epoch 3/100\n",
            "389/389 [==============================] - ETA: 0s - loss: 6.4204 - accuracy: 0.0502"
          ]
        },
        {
          "name": "stderr",
          "output_type": "stream",
          "text": [
            "WARNING:tensorflow:Early stopping conditioned on metric `val_loss` which is not available. Available metrics are: loss,accuracy\n"
          ]
        },
        {
          "name": "stdout",
          "output_type": "stream",
          "text": [
            "389/389 [==============================] - 40s 102ms/step - loss: 6.4204 - accuracy: 0.0502\n",
            "Epoch 4/100\n",
            "389/389 [==============================] - ETA: 0s - loss: 6.3593 - accuracy: 0.0527"
          ]
        },
        {
          "name": "stderr",
          "output_type": "stream",
          "text": [
            "WARNING:tensorflow:Early stopping conditioned on metric `val_loss` which is not available. Available metrics are: loss,accuracy\n"
          ]
        },
        {
          "name": "stdout",
          "output_type": "stream",
          "text": [
            "389/389 [==============================] - 39s 100ms/step - loss: 6.3593 - accuracy: 0.0527\n",
            "Epoch 5/100\n",
            "389/389 [==============================] - ETA: 0s - loss: 6.3052 - accuracy: 0.0577"
          ]
        },
        {
          "name": "stderr",
          "output_type": "stream",
          "text": [
            "WARNING:tensorflow:Early stopping conditioned on metric `val_loss` which is not available. Available metrics are: loss,accuracy\n"
          ]
        },
        {
          "name": "stdout",
          "output_type": "stream",
          "text": [
            "389/389 [==============================] - 39s 101ms/step - loss: 6.3052 - accuracy: 0.0577\n",
            "Epoch 6/100\n",
            "389/389 [==============================] - ETA: 0s - loss: 6.2296 - accuracy: 0.0604"
          ]
        },
        {
          "name": "stderr",
          "output_type": "stream",
          "text": [
            "WARNING:tensorflow:Early stopping conditioned on metric `val_loss` which is not available. Available metrics are: loss,accuracy\n"
          ]
        },
        {
          "name": "stdout",
          "output_type": "stream",
          "text": [
            "389/389 [==============================] - 40s 102ms/step - loss: 6.2296 - accuracy: 0.0604\n",
            "Epoch 7/100\n",
            "389/389 [==============================] - ETA: 0s - loss: 6.1814 - accuracy: 0.0648"
          ]
        },
        {
          "name": "stderr",
          "output_type": "stream",
          "text": [
            "WARNING:tensorflow:Early stopping conditioned on metric `val_loss` which is not available. Available metrics are: loss,accuracy\n"
          ]
        },
        {
          "name": "stdout",
          "output_type": "stream",
          "text": [
            "389/389 [==============================] - 40s 102ms/step - loss: 6.1814 - accuracy: 0.0648\n",
            "Epoch 8/100\n",
            "389/389 [==============================] - ETA: 0s - loss: 6.1554 - accuracy: 0.0635"
          ]
        },
        {
          "name": "stderr",
          "output_type": "stream",
          "text": [
            "WARNING:tensorflow:Early stopping conditioned on metric `val_loss` which is not available. Available metrics are: loss,accuracy\n"
          ]
        },
        {
          "name": "stdout",
          "output_type": "stream",
          "text": [
            "389/389 [==============================] - 43s 110ms/step - loss: 6.1554 - accuracy: 0.0635\n",
            "Epoch 9/100\n",
            "389/389 [==============================] - ETA: 0s - loss: 6.2806 - accuracy: 0.0578"
          ]
        },
        {
          "name": "stderr",
          "output_type": "stream",
          "text": [
            "WARNING:tensorflow:Early stopping conditioned on metric `val_loss` which is not available. Available metrics are: loss,accuracy\n"
          ]
        },
        {
          "name": "stdout",
          "output_type": "stream",
          "text": [
            "389/389 [==============================] - 39s 102ms/step - loss: 6.2806 - accuracy: 0.0578\n",
            "Epoch 10/100\n",
            "389/389 [==============================] - ETA: 0s - loss: 6.2735 - accuracy: 0.0575"
          ]
        },
        {
          "name": "stderr",
          "output_type": "stream",
          "text": [
            "WARNING:tensorflow:Early stopping conditioned on metric `val_loss` which is not available. Available metrics are: loss,accuracy\n"
          ]
        },
        {
          "name": "stdout",
          "output_type": "stream",
          "text": [
            "389/389 [==============================] - 40s 102ms/step - loss: 6.2735 - accuracy: 0.0575\n",
            "Epoch 11/100\n",
            "389/389 [==============================] - ETA: 0s - loss: 6.1299 - accuracy: 0.0621"
          ]
        },
        {
          "name": "stderr",
          "output_type": "stream",
          "text": [
            "WARNING:tensorflow:Early stopping conditioned on metric `val_loss` which is not available. Available metrics are: loss,accuracy\n"
          ]
        },
        {
          "name": "stdout",
          "output_type": "stream",
          "text": [
            "389/389 [==============================] - 40s 103ms/step - loss: 6.1299 - accuracy: 0.0621\n",
            "Epoch 12/100\n",
            "389/389 [==============================] - ETA: 0s - loss: 6.0337 - accuracy: 0.0649"
          ]
        },
        {
          "name": "stderr",
          "output_type": "stream",
          "text": [
            "WARNING:tensorflow:Early stopping conditioned on metric `val_loss` which is not available. Available metrics are: loss,accuracy\n"
          ]
        },
        {
          "name": "stdout",
          "output_type": "stream",
          "text": [
            "389/389 [==============================] - 40s 102ms/step - loss: 6.0337 - accuracy: 0.0649\n",
            "Epoch 13/100\n",
            "389/389 [==============================] - ETA: 0s - loss: 5.9543 - accuracy: 0.0686"
          ]
        },
        {
          "name": "stderr",
          "output_type": "stream",
          "text": [
            "WARNING:tensorflow:Early stopping conditioned on metric `val_loss` which is not available. Available metrics are: loss,accuracy\n"
          ]
        },
        {
          "name": "stdout",
          "output_type": "stream",
          "text": [
            "389/389 [==============================] - 40s 102ms/step - loss: 5.9543 - accuracy: 0.0686\n",
            "Epoch 14/100\n",
            "389/389 [==============================] - ETA: 0s - loss: 5.8766 - accuracy: 0.0687"
          ]
        },
        {
          "name": "stderr",
          "output_type": "stream",
          "text": [
            "WARNING:tensorflow:Early stopping conditioned on metric `val_loss` which is not available. Available metrics are: loss,accuracy\n"
          ]
        },
        {
          "name": "stdout",
          "output_type": "stream",
          "text": [
            "389/389 [==============================] - 40s 102ms/step - loss: 5.8766 - accuracy: 0.0687\n",
            "Epoch 15/100\n",
            "389/389 [==============================] - ETA: 0s - loss: 5.8058 - accuracy: 0.0735"
          ]
        },
        {
          "name": "stderr",
          "output_type": "stream",
          "text": [
            "WARNING:tensorflow:Early stopping conditioned on metric `val_loss` which is not available. Available metrics are: loss,accuracy\n"
          ]
        },
        {
          "name": "stdout",
          "output_type": "stream",
          "text": [
            "389/389 [==============================] - 40s 102ms/step - loss: 5.8058 - accuracy: 0.0735\n",
            "Epoch 16/100\n",
            "389/389 [==============================] - ETA: 0s - loss: 5.7537 - accuracy: 0.0738"
          ]
        },
        {
          "name": "stderr",
          "output_type": "stream",
          "text": [
            "WARNING:tensorflow:Early stopping conditioned on metric `val_loss` which is not available. Available metrics are: loss,accuracy\n"
          ]
        },
        {
          "name": "stdout",
          "output_type": "stream",
          "text": [
            "389/389 [==============================] - 39s 101ms/step - loss: 5.7537 - accuracy: 0.0738\n",
            "Epoch 17/100\n",
            "389/389 [==============================] - ETA: 0s - loss: 5.7183 - accuracy: 0.0723"
          ]
        },
        {
          "name": "stderr",
          "output_type": "stream",
          "text": [
            "WARNING:tensorflow:Early stopping conditioned on metric `val_loss` which is not available. Available metrics are: loss,accuracy\n"
          ]
        },
        {
          "name": "stdout",
          "output_type": "stream",
          "text": [
            "389/389 [==============================] - 39s 101ms/step - loss: 5.7183 - accuracy: 0.0723\n",
            "Epoch 18/100\n",
            "389/389 [==============================] - ETA: 0s - loss: 5.6562 - accuracy: 0.0771"
          ]
        },
        {
          "name": "stderr",
          "output_type": "stream",
          "text": [
            "WARNING:tensorflow:Early stopping conditioned on metric `val_loss` which is not available. Available metrics are: loss,accuracy\n"
          ]
        },
        {
          "name": "stdout",
          "output_type": "stream",
          "text": [
            "389/389 [==============================] - 39s 101ms/step - loss: 5.6562 - accuracy: 0.0771\n",
            "Epoch 19/100\n",
            "389/389 [==============================] - ETA: 0s - loss: 5.5909 - accuracy: 0.0777"
          ]
        },
        {
          "name": "stderr",
          "output_type": "stream",
          "text": [
            "WARNING:tensorflow:Early stopping conditioned on metric `val_loss` which is not available. Available metrics are: loss,accuracy\n"
          ]
        },
        {
          "name": "stdout",
          "output_type": "stream",
          "text": [
            "389/389 [==============================] - 40s 102ms/step - loss: 5.5909 - accuracy: 0.0777\n",
            "Epoch 20/100\n",
            "389/389 [==============================] - ETA: 0s - loss: 5.5637 - accuracy: 0.0780"
          ]
        },
        {
          "name": "stderr",
          "output_type": "stream",
          "text": [
            "WARNING:tensorflow:Early stopping conditioned on metric `val_loss` which is not available. Available metrics are: loss,accuracy\n"
          ]
        },
        {
          "name": "stdout",
          "output_type": "stream",
          "text": [
            "389/389 [==============================] - 39s 101ms/step - loss: 5.5637 - accuracy: 0.0780\n",
            "Epoch 21/100\n",
            "389/389 [==============================] - ETA: 0s - loss: 5.5471 - accuracy: 0.0808"
          ]
        },
        {
          "name": "stderr",
          "output_type": "stream",
          "text": [
            "WARNING:tensorflow:Early stopping conditioned on metric `val_loss` which is not available. Available metrics are: loss,accuracy\n"
          ]
        },
        {
          "name": "stdout",
          "output_type": "stream",
          "text": [
            "389/389 [==============================] - 39s 101ms/step - loss: 5.5471 - accuracy: 0.0808\n",
            "Epoch 22/100\n",
            "389/389 [==============================] - ETA: 0s - loss: 5.4920 - accuracy: 0.0794"
          ]
        },
        {
          "name": "stderr",
          "output_type": "stream",
          "text": [
            "WARNING:tensorflow:Early stopping conditioned on metric `val_loss` which is not available. Available metrics are: loss,accuracy\n"
          ]
        },
        {
          "name": "stdout",
          "output_type": "stream",
          "text": [
            "389/389 [==============================] - 39s 101ms/step - loss: 5.4920 - accuracy: 0.0794\n",
            "Epoch 23/100\n",
            "389/389 [==============================] - ETA: 0s - loss: 5.3990 - accuracy: 0.0803"
          ]
        },
        {
          "name": "stderr",
          "output_type": "stream",
          "text": [
            "WARNING:tensorflow:Early stopping conditioned on metric `val_loss` which is not available. Available metrics are: loss,accuracy\n"
          ]
        },
        {
          "name": "stdout",
          "output_type": "stream",
          "text": [
            "389/389 [==============================] - 39s 102ms/step - loss: 5.3990 - accuracy: 0.0803\n",
            "Epoch 24/100\n",
            "389/389 [==============================] - ETA: 0s - loss: 5.3093 - accuracy: 0.0812"
          ]
        },
        {
          "name": "stderr",
          "output_type": "stream",
          "text": [
            "WARNING:tensorflow:Early stopping conditioned on metric `val_loss` which is not available. Available metrics are: loss,accuracy\n"
          ]
        },
        {
          "name": "stdout",
          "output_type": "stream",
          "text": [
            "389/389 [==============================] - 40s 102ms/step - loss: 5.3093 - accuracy: 0.0812\n",
            "Epoch 25/100\n",
            "389/389 [==============================] - ETA: 0s - loss: 5.2297 - accuracy: 0.0824"
          ]
        },
        {
          "name": "stderr",
          "output_type": "stream",
          "text": [
            "WARNING:tensorflow:Early stopping conditioned on metric `val_loss` which is not available. Available metrics are: loss,accuracy\n"
          ]
        },
        {
          "name": "stdout",
          "output_type": "stream",
          "text": [
            "389/389 [==============================] - 39s 101ms/step - loss: 5.2297 - accuracy: 0.0824\n",
            "Epoch 26/100\n",
            "389/389 [==============================] - ETA: 0s - loss: 5.1775 - accuracy: 0.0846"
          ]
        },
        {
          "name": "stderr",
          "output_type": "stream",
          "text": [
            "WARNING:tensorflow:Early stopping conditioned on metric `val_loss` which is not available. Available metrics are: loss,accuracy\n"
          ]
        },
        {
          "name": "stdout",
          "output_type": "stream",
          "text": [
            "389/389 [==============================] - 39s 101ms/step - loss: 5.1775 - accuracy: 0.0846\n",
            "Epoch 27/100\n",
            "389/389 [==============================] - ETA: 0s - loss: 5.0893 - accuracy: 0.0856"
          ]
        },
        {
          "name": "stderr",
          "output_type": "stream",
          "text": [
            "WARNING:tensorflow:Early stopping conditioned on metric `val_loss` which is not available. Available metrics are: loss,accuracy\n"
          ]
        },
        {
          "name": "stdout",
          "output_type": "stream",
          "text": [
            "389/389 [==============================] - 39s 101ms/step - loss: 5.0893 - accuracy: 0.0856\n",
            "Epoch 28/100\n",
            "389/389 [==============================] - ETA: 0s - loss: 5.0166 - accuracy: 0.0888"
          ]
        },
        {
          "name": "stderr",
          "output_type": "stream",
          "text": [
            "WARNING:tensorflow:Early stopping conditioned on metric `val_loss` which is not available. Available metrics are: loss,accuracy\n"
          ]
        },
        {
          "name": "stdout",
          "output_type": "stream",
          "text": [
            "389/389 [==============================] - 39s 101ms/step - loss: 5.0166 - accuracy: 0.0888\n",
            "Epoch 29/100\n",
            "389/389 [==============================] - ETA: 0s - loss: 4.9220 - accuracy: 0.0915"
          ]
        },
        {
          "name": "stderr",
          "output_type": "stream",
          "text": [
            "WARNING:tensorflow:Early stopping conditioned on metric `val_loss` which is not available. Available metrics are: loss,accuracy\n"
          ]
        },
        {
          "name": "stdout",
          "output_type": "stream",
          "text": [
            "389/389 [==============================] - 39s 101ms/step - loss: 4.9220 - accuracy: 0.0915\n",
            "Epoch 30/100\n",
            "389/389 [==============================] - ETA: 0s - loss: 4.8269 - accuracy: 0.0960"
          ]
        },
        {
          "name": "stderr",
          "output_type": "stream",
          "text": [
            "WARNING:tensorflow:Early stopping conditioned on metric `val_loss` which is not available. Available metrics are: loss,accuracy\n"
          ]
        },
        {
          "name": "stdout",
          "output_type": "stream",
          "text": [
            "389/389 [==============================] - 39s 100ms/step - loss: 4.8269 - accuracy: 0.0960\n",
            "Epoch 31/100\n",
            "389/389 [==============================] - ETA: 0s - loss: 4.7335 - accuracy: 0.0993"
          ]
        },
        {
          "name": "stderr",
          "output_type": "stream",
          "text": [
            "WARNING:tensorflow:Early stopping conditioned on metric `val_loss` which is not available. Available metrics are: loss,accuracy\n"
          ]
        },
        {
          "name": "stdout",
          "output_type": "stream",
          "text": [
            "389/389 [==============================] - 39s 100ms/step - loss: 4.7335 - accuracy: 0.0993\n",
            "Epoch 32/100\n",
            "389/389 [==============================] - ETA: 0s - loss: 4.6487 - accuracy: 0.1009"
          ]
        },
        {
          "name": "stderr",
          "output_type": "stream",
          "text": [
            "WARNING:tensorflow:Early stopping conditioned on metric `val_loss` which is not available. Available metrics are: loss,accuracy\n"
          ]
        },
        {
          "name": "stdout",
          "output_type": "stream",
          "text": [
            "389/389 [==============================] - 39s 100ms/step - loss: 4.6487 - accuracy: 0.1009\n",
            "Epoch 33/100\n",
            "389/389 [==============================] - ETA: 0s - loss: 4.5805 - accuracy: 0.1034"
          ]
        },
        {
          "name": "stderr",
          "output_type": "stream",
          "text": [
            "WARNING:tensorflow:Early stopping conditioned on metric `val_loss` which is not available. Available metrics are: loss,accuracy\n"
          ]
        },
        {
          "name": "stdout",
          "output_type": "stream",
          "text": [
            "389/389 [==============================] - 39s 101ms/step - loss: 4.5805 - accuracy: 0.1034\n",
            "Epoch 34/100\n",
            "389/389 [==============================] - ETA: 0s - loss: 4.4908 - accuracy: 0.1055"
          ]
        },
        {
          "name": "stderr",
          "output_type": "stream",
          "text": [
            "WARNING:tensorflow:Early stopping conditioned on metric `val_loss` which is not available. Available metrics are: loss,accuracy\n"
          ]
        },
        {
          "name": "stdout",
          "output_type": "stream",
          "text": [
            "389/389 [==============================] - 39s 100ms/step - loss: 4.4908 - accuracy: 0.1055\n",
            "Epoch 35/100\n",
            "389/389 [==============================] - ETA: 0s - loss: 4.4075 - accuracy: 0.1136"
          ]
        },
        {
          "name": "stderr",
          "output_type": "stream",
          "text": [
            "WARNING:tensorflow:Early stopping conditioned on metric `val_loss` which is not available. Available metrics are: loss,accuracy\n"
          ]
        },
        {
          "name": "stdout",
          "output_type": "stream",
          "text": [
            "389/389 [==============================] - 39s 100ms/step - loss: 4.4075 - accuracy: 0.1136\n",
            "Epoch 36/100\n",
            "389/389 [==============================] - ETA: 0s - loss: 4.3267 - accuracy: 0.1219"
          ]
        },
        {
          "name": "stderr",
          "output_type": "stream",
          "text": [
            "WARNING:tensorflow:Early stopping conditioned on metric `val_loss` which is not available. Available metrics are: loss,accuracy\n"
          ]
        },
        {
          "name": "stdout",
          "output_type": "stream",
          "text": [
            "389/389 [==============================] - 37s 96ms/step - loss: 4.3267 - accuracy: 0.1219\n",
            "Epoch 37/100\n",
            "389/389 [==============================] - ETA: 0s - loss: 4.2425 - accuracy: 0.1257"
          ]
        },
        {
          "name": "stderr",
          "output_type": "stream",
          "text": [
            "WARNING:tensorflow:Early stopping conditioned on metric `val_loss` which is not available. Available metrics are: loss,accuracy\n"
          ]
        },
        {
          "name": "stdout",
          "output_type": "stream",
          "text": [
            "389/389 [==============================] - 37s 95ms/step - loss: 4.2425 - accuracy: 0.1257\n",
            "Epoch 38/100\n",
            "389/389 [==============================] - ETA: 0s - loss: 4.1529 - accuracy: 0.1291"
          ]
        },
        {
          "name": "stderr",
          "output_type": "stream",
          "text": [
            "WARNING:tensorflow:Early stopping conditioned on metric `val_loss` which is not available. Available metrics are: loss,accuracy\n"
          ]
        },
        {
          "name": "stdout",
          "output_type": "stream",
          "text": [
            "389/389 [==============================] - 35s 91ms/step - loss: 4.1529 - accuracy: 0.1291\n",
            "Epoch 39/100\n",
            "389/389 [==============================] - ETA: 0s - loss: 4.0866 - accuracy: 0.1456"
          ]
        },
        {
          "name": "stderr",
          "output_type": "stream",
          "text": [
            "WARNING:tensorflow:Early stopping conditioned on metric `val_loss` which is not available. Available metrics are: loss,accuracy\n"
          ]
        },
        {
          "name": "stdout",
          "output_type": "stream",
          "text": [
            "389/389 [==============================] - 35s 90ms/step - loss: 4.0866 - accuracy: 0.1456\n",
            "Epoch 40/100\n",
            "389/389 [==============================] - ETA: 0s - loss: 3.9939 - accuracy: 0.1505"
          ]
        },
        {
          "name": "stderr",
          "output_type": "stream",
          "text": [
            "WARNING:tensorflow:Early stopping conditioned on metric `val_loss` which is not available. Available metrics are: loss,accuracy\n"
          ]
        },
        {
          "name": "stdout",
          "output_type": "stream",
          "text": [
            "389/389 [==============================] - 35s 91ms/step - loss: 3.9939 - accuracy: 0.1505\n",
            "Epoch 41/100\n",
            "389/389 [==============================] - ETA: 0s - loss: 3.9332 - accuracy: 0.1564"
          ]
        },
        {
          "name": "stderr",
          "output_type": "stream",
          "text": [
            "WARNING:tensorflow:Early stopping conditioned on metric `val_loss` which is not available. Available metrics are: loss,accuracy\n"
          ]
        },
        {
          "name": "stdout",
          "output_type": "stream",
          "text": [
            "389/389 [==============================] - 35s 91ms/step - loss: 3.9332 - accuracy: 0.1564\n",
            "Epoch 42/100\n",
            "389/389 [==============================] - ETA: 0s - loss: 3.8489 - accuracy: 0.1654"
          ]
        },
        {
          "name": "stderr",
          "output_type": "stream",
          "text": [
            "WARNING:tensorflow:Early stopping conditioned on metric `val_loss` which is not available. Available metrics are: loss,accuracy\n"
          ]
        },
        {
          "name": "stdout",
          "output_type": "stream",
          "text": [
            "389/389 [==============================] - 35s 90ms/step - loss: 3.8489 - accuracy: 0.1654\n",
            "Epoch 43/100\n",
            "389/389 [==============================] - ETA: 0s - loss: 3.7731 - accuracy: 0.1779"
          ]
        },
        {
          "name": "stderr",
          "output_type": "stream",
          "text": [
            "WARNING:tensorflow:Early stopping conditioned on metric `val_loss` which is not available. Available metrics are: loss,accuracy\n"
          ]
        },
        {
          "name": "stdout",
          "output_type": "stream",
          "text": [
            "389/389 [==============================] - 35s 91ms/step - loss: 3.7731 - accuracy: 0.1779\n",
            "Epoch 44/100\n",
            "389/389 [==============================] - ETA: 0s - loss: 3.6871 - accuracy: 0.1936"
          ]
        },
        {
          "name": "stderr",
          "output_type": "stream",
          "text": [
            "WARNING:tensorflow:Early stopping conditioned on metric `val_loss` which is not available. Available metrics are: loss,accuracy\n"
          ]
        },
        {
          "name": "stdout",
          "output_type": "stream",
          "text": [
            "389/389 [==============================] - 35s 90ms/step - loss: 3.6871 - accuracy: 0.1936\n",
            "Epoch 45/100\n",
            "389/389 [==============================] - ETA: 0s - loss: 3.6509 - accuracy: 0.1926"
          ]
        },
        {
          "name": "stderr",
          "output_type": "stream",
          "text": [
            "WARNING:tensorflow:Early stopping conditioned on metric `val_loss` which is not available. Available metrics are: loss,accuracy\n"
          ]
        },
        {
          "name": "stdout",
          "output_type": "stream",
          "text": [
            "389/389 [==============================] - 35s 91ms/step - loss: 3.6509 - accuracy: 0.1926\n",
            "Epoch 46/100\n",
            "389/389 [==============================] - ETA: 0s - loss: 3.5589 - accuracy: 0.2059"
          ]
        },
        {
          "name": "stderr",
          "output_type": "stream",
          "text": [
            "WARNING:tensorflow:Early stopping conditioned on metric `val_loss` which is not available. Available metrics are: loss,accuracy\n"
          ]
        },
        {
          "name": "stdout",
          "output_type": "stream",
          "text": [
            "389/389 [==============================] - 35s 91ms/step - loss: 3.5589 - accuracy: 0.2059\n",
            "Epoch 47/100\n",
            "389/389 [==============================] - ETA: 0s - loss: 3.4959 - accuracy: 0.2165"
          ]
        },
        {
          "name": "stderr",
          "output_type": "stream",
          "text": [
            "WARNING:tensorflow:Early stopping conditioned on metric `val_loss` which is not available. Available metrics are: loss,accuracy\n"
          ]
        },
        {
          "name": "stdout",
          "output_type": "stream",
          "text": [
            "389/389 [==============================] - 35s 91ms/step - loss: 3.4959 - accuracy: 0.2165\n",
            "Epoch 48/100\n",
            "389/389 [==============================] - ETA: 0s - loss: 3.4095 - accuracy: 0.2284"
          ]
        },
        {
          "name": "stderr",
          "output_type": "stream",
          "text": [
            "WARNING:tensorflow:Early stopping conditioned on metric `val_loss` which is not available. Available metrics are: loss,accuracy\n"
          ]
        },
        {
          "name": "stdout",
          "output_type": "stream",
          "text": [
            "389/389 [==============================] - 37s 96ms/step - loss: 3.4095 - accuracy: 0.2284\n",
            "Epoch 49/100\n",
            "389/389 [==============================] - ETA: 0s - loss: 3.3374 - accuracy: 0.2351"
          ]
        },
        {
          "name": "stderr",
          "output_type": "stream",
          "text": [
            "WARNING:tensorflow:Early stopping conditioned on metric `val_loss` which is not available. Available metrics are: loss,accuracy\n"
          ]
        },
        {
          "name": "stdout",
          "output_type": "stream",
          "text": [
            "389/389 [==============================] - 37s 95ms/step - loss: 3.3374 - accuracy: 0.2351\n",
            "Epoch 50/100\n",
            "389/389 [==============================] - ETA: 0s - loss: 3.2917 - accuracy: 0.2510"
          ]
        },
        {
          "name": "stderr",
          "output_type": "stream",
          "text": [
            "WARNING:tensorflow:Early stopping conditioned on metric `val_loss` which is not available. Available metrics are: loss,accuracy\n"
          ]
        },
        {
          "name": "stdout",
          "output_type": "stream",
          "text": [
            "389/389 [==============================] - 37s 96ms/step - loss: 3.2917 - accuracy: 0.2510\n",
            "Epoch 51/100\n",
            "389/389 [==============================] - ETA: 0s - loss: 3.2173 - accuracy: 0.2634"
          ]
        },
        {
          "name": "stderr",
          "output_type": "stream",
          "text": [
            "WARNING:tensorflow:Early stopping conditioned on metric `val_loss` which is not available. Available metrics are: loss,accuracy\n"
          ]
        },
        {
          "name": "stdout",
          "output_type": "stream",
          "text": [
            "389/389 [==============================] - 37s 94ms/step - loss: 3.2173 - accuracy: 0.2634\n",
            "Epoch 52/100\n",
            "389/389 [==============================] - ETA: 0s - loss: 3.1364 - accuracy: 0.2754"
          ]
        },
        {
          "name": "stderr",
          "output_type": "stream",
          "text": [
            "WARNING:tensorflow:Early stopping conditioned on metric `val_loss` which is not available. Available metrics are: loss,accuracy\n"
          ]
        },
        {
          "name": "stdout",
          "output_type": "stream",
          "text": [
            "389/389 [==============================] - 36s 94ms/step - loss: 3.1364 - accuracy: 0.2754\n",
            "Epoch 53/100\n",
            "389/389 [==============================] - ETA: 0s - loss: 3.0855 - accuracy: 0.2809"
          ]
        },
        {
          "name": "stderr",
          "output_type": "stream",
          "text": [
            "WARNING:tensorflow:Early stopping conditioned on metric `val_loss` which is not available. Available metrics are: loss,accuracy\n"
          ]
        },
        {
          "name": "stdout",
          "output_type": "stream",
          "text": [
            "389/389 [==============================] - 37s 94ms/step - loss: 3.0855 - accuracy: 0.2809\n",
            "Epoch 54/100\n",
            "389/389 [==============================] - ETA: 0s - loss: 3.0236 - accuracy: 0.2960"
          ]
        },
        {
          "name": "stderr",
          "output_type": "stream",
          "text": [
            "WARNING:tensorflow:Early stopping conditioned on metric `val_loss` which is not available. Available metrics are: loss,accuracy\n"
          ]
        },
        {
          "name": "stdout",
          "output_type": "stream",
          "text": [
            "389/389 [==============================] - 37s 94ms/step - loss: 3.0236 - accuracy: 0.2960\n",
            "Epoch 55/100\n",
            "389/389 [==============================] - ETA: 0s - loss: 2.9663 - accuracy: 0.3131"
          ]
        },
        {
          "name": "stderr",
          "output_type": "stream",
          "text": [
            "WARNING:tensorflow:Early stopping conditioned on metric `val_loss` which is not available. Available metrics are: loss,accuracy\n"
          ]
        },
        {
          "name": "stdout",
          "output_type": "stream",
          "text": [
            "389/389 [==============================] - 37s 95ms/step - loss: 2.9663 - accuracy: 0.3131\n",
            "Epoch 56/100\n",
            "389/389 [==============================] - ETA: 0s - loss: 2.9008 - accuracy: 0.3152"
          ]
        },
        {
          "name": "stderr",
          "output_type": "stream",
          "text": [
            "WARNING:tensorflow:Early stopping conditioned on metric `val_loss` which is not available. Available metrics are: loss,accuracy\n"
          ]
        },
        {
          "name": "stdout",
          "output_type": "stream",
          "text": [
            "389/389 [==============================] - 37s 95ms/step - loss: 2.9008 - accuracy: 0.3152\n",
            "Epoch 57/100\n",
            "389/389 [==============================] - ETA: 0s - loss: 2.8570 - accuracy: 0.3258"
          ]
        },
        {
          "name": "stderr",
          "output_type": "stream",
          "text": [
            "WARNING:tensorflow:Early stopping conditioned on metric `val_loss` which is not available. Available metrics are: loss,accuracy\n"
          ]
        },
        {
          "name": "stdout",
          "output_type": "stream",
          "text": [
            "389/389 [==============================] - 37s 95ms/step - loss: 2.8570 - accuracy: 0.3258\n",
            "Epoch 58/100\n",
            "389/389 [==============================] - ETA: 0s - loss: 2.7960 - accuracy: 0.3378"
          ]
        },
        {
          "name": "stderr",
          "output_type": "stream",
          "text": [
            "WARNING:tensorflow:Early stopping conditioned on metric `val_loss` which is not available. Available metrics are: loss,accuracy\n"
          ]
        },
        {
          "name": "stdout",
          "output_type": "stream",
          "text": [
            "389/389 [==============================] - 37s 94ms/step - loss: 2.7960 - accuracy: 0.3378\n",
            "Epoch 59/100\n",
            "389/389 [==============================] - ETA: 0s - loss: 2.7367 - accuracy: 0.3498"
          ]
        },
        {
          "name": "stderr",
          "output_type": "stream",
          "text": [
            "WARNING:tensorflow:Early stopping conditioned on metric `val_loss` which is not available. Available metrics are: loss,accuracy\n"
          ]
        },
        {
          "name": "stdout",
          "output_type": "stream",
          "text": [
            "389/389 [==============================] - 36s 94ms/step - loss: 2.7367 - accuracy: 0.3498\n",
            "Epoch 60/100\n",
            "389/389 [==============================] - ETA: 0s - loss: 2.7054 - accuracy: 0.3602"
          ]
        },
        {
          "name": "stderr",
          "output_type": "stream",
          "text": [
            "WARNING:tensorflow:Early stopping conditioned on metric `val_loss` which is not available. Available metrics are: loss,accuracy\n"
          ]
        },
        {
          "name": "stdout",
          "output_type": "stream",
          "text": [
            "389/389 [==============================] - 37s 95ms/step - loss: 2.7054 - accuracy: 0.3602\n",
            "Epoch 61/100\n",
            "389/389 [==============================] - ETA: 0s - loss: 2.6278 - accuracy: 0.3724"
          ]
        },
        {
          "name": "stderr",
          "output_type": "stream",
          "text": [
            "WARNING:tensorflow:Early stopping conditioned on metric `val_loss` which is not available. Available metrics are: loss,accuracy\n"
          ]
        },
        {
          "name": "stdout",
          "output_type": "stream",
          "text": [
            "389/389 [==============================] - 36s 93ms/step - loss: 2.6278 - accuracy: 0.3724\n",
            "Epoch 62/100\n",
            "389/389 [==============================] - ETA: 0s - loss: 2.5840 - accuracy: 0.3808"
          ]
        },
        {
          "name": "stderr",
          "output_type": "stream",
          "text": [
            "WARNING:tensorflow:Early stopping conditioned on metric `val_loss` which is not available. Available metrics are: loss,accuracy\n"
          ]
        },
        {
          "name": "stdout",
          "output_type": "stream",
          "text": [
            "389/389 [==============================] - 37s 94ms/step - loss: 2.5840 - accuracy: 0.3808\n",
            "Epoch 63/100\n",
            "389/389 [==============================] - ETA: 0s - loss: 2.5454 - accuracy: 0.3878"
          ]
        },
        {
          "name": "stderr",
          "output_type": "stream",
          "text": [
            "WARNING:tensorflow:Early stopping conditioned on metric `val_loss` which is not available. Available metrics are: loss,accuracy\n"
          ]
        },
        {
          "name": "stdout",
          "output_type": "stream",
          "text": [
            "389/389 [==============================] - 37s 94ms/step - loss: 2.5454 - accuracy: 0.3878\n",
            "Epoch 64/100\n",
            "389/389 [==============================] - ETA: 0s - loss: 2.4808 - accuracy: 0.4044"
          ]
        },
        {
          "name": "stderr",
          "output_type": "stream",
          "text": [
            "WARNING:tensorflow:Early stopping conditioned on metric `val_loss` which is not available. Available metrics are: loss,accuracy\n"
          ]
        },
        {
          "name": "stdout",
          "output_type": "stream",
          "text": [
            "389/389 [==============================] - 37s 94ms/step - loss: 2.4808 - accuracy: 0.4044\n",
            "Epoch 65/100\n",
            "389/389 [==============================] - ETA: 0s - loss: 2.4393 - accuracy: 0.4146"
          ]
        },
        {
          "name": "stderr",
          "output_type": "stream",
          "text": [
            "WARNING:tensorflow:Early stopping conditioned on metric `val_loss` which is not available. Available metrics are: loss,accuracy\n"
          ]
        },
        {
          "name": "stdout",
          "output_type": "stream",
          "text": [
            "389/389 [==============================] - 37s 95ms/step - loss: 2.4393 - accuracy: 0.4146\n",
            "Epoch 66/100\n",
            "389/389 [==============================] - ETA: 0s - loss: 2.4027 - accuracy: 0.4167"
          ]
        },
        {
          "name": "stderr",
          "output_type": "stream",
          "text": [
            "WARNING:tensorflow:Early stopping conditioned on metric `val_loss` which is not available. Available metrics are: loss,accuracy\n"
          ]
        },
        {
          "name": "stdout",
          "output_type": "stream",
          "text": [
            "389/389 [==============================] - 37s 95ms/step - loss: 2.4027 - accuracy: 0.4167\n",
            "Epoch 67/100\n",
            "389/389 [==============================] - ETA: 0s - loss: 2.3602 - accuracy: 0.4280"
          ]
        },
        {
          "name": "stderr",
          "output_type": "stream",
          "text": [
            "WARNING:tensorflow:Early stopping conditioned on metric `val_loss` which is not available. Available metrics are: loss,accuracy\n"
          ]
        },
        {
          "name": "stdout",
          "output_type": "stream",
          "text": [
            "389/389 [==============================] - 37s 95ms/step - loss: 2.3602 - accuracy: 0.4280\n",
            "Epoch 68/100\n",
            "389/389 [==============================] - ETA: 0s - loss: 2.3120 - accuracy: 0.4342"
          ]
        },
        {
          "name": "stderr",
          "output_type": "stream",
          "text": [
            "WARNING:tensorflow:Early stopping conditioned on metric `val_loss` which is not available. Available metrics are: loss,accuracy\n"
          ]
        },
        {
          "name": "stdout",
          "output_type": "stream",
          "text": [
            "389/389 [==============================] - 37s 95ms/step - loss: 2.3120 - accuracy: 0.4342\n",
            "Epoch 69/100\n",
            "389/389 [==============================] - ETA: 0s - loss: 2.2687 - accuracy: 0.4424"
          ]
        },
        {
          "name": "stderr",
          "output_type": "stream",
          "text": [
            "WARNING:tensorflow:Early stopping conditioned on metric `val_loss` which is not available. Available metrics are: loss,accuracy\n"
          ]
        },
        {
          "name": "stdout",
          "output_type": "stream",
          "text": [
            "389/389 [==============================] - 37s 95ms/step - loss: 2.2687 - accuracy: 0.4424\n",
            "Epoch 70/100\n",
            "389/389 [==============================] - ETA: 0s - loss: 2.2211 - accuracy: 0.4531"
          ]
        },
        {
          "name": "stderr",
          "output_type": "stream",
          "text": [
            "WARNING:tensorflow:Early stopping conditioned on metric `val_loss` which is not available. Available metrics are: loss,accuracy\n"
          ]
        },
        {
          "name": "stdout",
          "output_type": "stream",
          "text": [
            "389/389 [==============================] - 38s 98ms/step - loss: 2.2211 - accuracy: 0.4531\n",
            "Epoch 71/100\n",
            "389/389 [==============================] - ETA: 0s - loss: 2.1774 - accuracy: 0.4645"
          ]
        },
        {
          "name": "stderr",
          "output_type": "stream",
          "text": [
            "WARNING:tensorflow:Early stopping conditioned on metric `val_loss` which is not available. Available metrics are: loss,accuracy\n"
          ]
        },
        {
          "name": "stdout",
          "output_type": "stream",
          "text": [
            "389/389 [==============================] - 39s 99ms/step - loss: 2.1774 - accuracy: 0.4645\n",
            "Epoch 72/100\n",
            "389/389 [==============================] - ETA: 0s - loss: 2.1531 - accuracy: 0.4702"
          ]
        },
        {
          "name": "stderr",
          "output_type": "stream",
          "text": [
            "WARNING:tensorflow:Early stopping conditioned on metric `val_loss` which is not available. Available metrics are: loss,accuracy\n"
          ]
        },
        {
          "name": "stdout",
          "output_type": "stream",
          "text": [
            "389/389 [==============================] - 38s 98ms/step - loss: 2.1531 - accuracy: 0.4702\n",
            "Epoch 73/100\n",
            "389/389 [==============================] - ETA: 0s - loss: 2.0987 - accuracy: 0.4779"
          ]
        },
        {
          "name": "stderr",
          "output_type": "stream",
          "text": [
            "WARNING:tensorflow:Early stopping conditioned on metric `val_loss` which is not available. Available metrics are: loss,accuracy\n"
          ]
        },
        {
          "name": "stdout",
          "output_type": "stream",
          "text": [
            "389/389 [==============================] - 38s 98ms/step - loss: 2.0987 - accuracy: 0.4779\n",
            "Epoch 74/100\n",
            "389/389 [==============================] - ETA: 0s - loss: 2.0628 - accuracy: 0.4855"
          ]
        },
        {
          "name": "stderr",
          "output_type": "stream",
          "text": [
            "WARNING:tensorflow:Early stopping conditioned on metric `val_loss` which is not available. Available metrics are: loss,accuracy\n"
          ]
        },
        {
          "name": "stdout",
          "output_type": "stream",
          "text": [
            "389/389 [==============================] - 39s 100ms/step - loss: 2.0628 - accuracy: 0.4855\n",
            "Epoch 75/100\n",
            "389/389 [==============================] - ETA: 0s - loss: 2.0381 - accuracy: 0.4987"
          ]
        },
        {
          "name": "stderr",
          "output_type": "stream",
          "text": [
            "WARNING:tensorflow:Early stopping conditioned on metric `val_loss` which is not available. Available metrics are: loss,accuracy\n"
          ]
        },
        {
          "name": "stdout",
          "output_type": "stream",
          "text": [
            "389/389 [==============================] - 38s 98ms/step - loss: 2.0381 - accuracy: 0.4987\n",
            "Epoch 76/100\n",
            "389/389 [==============================] - ETA: 0s - loss: 1.9889 - accuracy: 0.5074"
          ]
        },
        {
          "name": "stderr",
          "output_type": "stream",
          "text": [
            "WARNING:tensorflow:Early stopping conditioned on metric `val_loss` which is not available. Available metrics are: loss,accuracy\n"
          ]
        },
        {
          "name": "stdout",
          "output_type": "stream",
          "text": [
            "389/389 [==============================] - 37s 96ms/step - loss: 1.9889 - accuracy: 0.5074\n",
            "Epoch 77/100\n",
            "389/389 [==============================] - ETA: 0s - loss: 1.9682 - accuracy: 0.5074"
          ]
        },
        {
          "name": "stderr",
          "output_type": "stream",
          "text": [
            "WARNING:tensorflow:Early stopping conditioned on metric `val_loss` which is not available. Available metrics are: loss,accuracy\n"
          ]
        },
        {
          "name": "stdout",
          "output_type": "stream",
          "text": [
            "389/389 [==============================] - 37s 96ms/step - loss: 1.9682 - accuracy: 0.5074\n",
            "Epoch 78/100\n",
            "389/389 [==============================] - ETA: 0s - loss: 1.9334 - accuracy: 0.5151"
          ]
        },
        {
          "name": "stderr",
          "output_type": "stream",
          "text": [
            "WARNING:tensorflow:Early stopping conditioned on metric `val_loss` which is not available. Available metrics are: loss,accuracy\n"
          ]
        },
        {
          "name": "stdout",
          "output_type": "stream",
          "text": [
            "389/389 [==============================] - 38s 98ms/step - loss: 1.9334 - accuracy: 0.5151\n",
            "Epoch 79/100\n",
            "389/389 [==============================] - ETA: 0s - loss: 1.8996 - accuracy: 0.5243"
          ]
        },
        {
          "name": "stderr",
          "output_type": "stream",
          "text": [
            "WARNING:tensorflow:Early stopping conditioned on metric `val_loss` which is not available. Available metrics are: loss,accuracy\n"
          ]
        },
        {
          "name": "stdout",
          "output_type": "stream",
          "text": [
            "389/389 [==============================] - 38s 97ms/step - loss: 1.8996 - accuracy: 0.5243\n",
            "Epoch 80/100\n",
            "389/389 [==============================] - ETA: 0s - loss: 1.8481 - accuracy: 0.5418"
          ]
        },
        {
          "name": "stderr",
          "output_type": "stream",
          "text": [
            "WARNING:tensorflow:Early stopping conditioned on metric `val_loss` which is not available. Available metrics are: loss,accuracy\n"
          ]
        },
        {
          "name": "stdout",
          "output_type": "stream",
          "text": [
            "389/389 [==============================] - 38s 98ms/step - loss: 1.8481 - accuracy: 0.5418\n",
            "Epoch 81/100\n",
            "389/389 [==============================] - ETA: 0s - loss: 1.8300 - accuracy: 0.5405"
          ]
        },
        {
          "name": "stderr",
          "output_type": "stream",
          "text": [
            "WARNING:tensorflow:Early stopping conditioned on metric `val_loss` which is not available. Available metrics are: loss,accuracy\n"
          ]
        },
        {
          "name": "stdout",
          "output_type": "stream",
          "text": [
            "389/389 [==============================] - 38s 97ms/step - loss: 1.8300 - accuracy: 0.5405\n",
            "Epoch 82/100\n",
            "389/389 [==============================] - ETA: 0s - loss: 1.8070 - accuracy: 0.5457"
          ]
        },
        {
          "name": "stderr",
          "output_type": "stream",
          "text": [
            "WARNING:tensorflow:Early stopping conditioned on metric `val_loss` which is not available. Available metrics are: loss,accuracy\n"
          ]
        },
        {
          "name": "stdout",
          "output_type": "stream",
          "text": [
            "389/389 [==============================] - 38s 98ms/step - loss: 1.8070 - accuracy: 0.5457\n",
            "Epoch 83/100\n",
            "389/389 [==============================] - ETA: 0s - loss: 1.7605 - accuracy: 0.5565"
          ]
        },
        {
          "name": "stderr",
          "output_type": "stream",
          "text": [
            "WARNING:tensorflow:Early stopping conditioned on metric `val_loss` which is not available. Available metrics are: loss,accuracy\n"
          ]
        },
        {
          "name": "stdout",
          "output_type": "stream",
          "text": [
            "389/389 [==============================] - 39s 99ms/step - loss: 1.7605 - accuracy: 0.5565\n",
            "Epoch 84/100\n",
            "389/389 [==============================] - ETA: 0s - loss: 1.7264 - accuracy: 0.5607"
          ]
        },
        {
          "name": "stderr",
          "output_type": "stream",
          "text": [
            "WARNING:tensorflow:Early stopping conditioned on metric `val_loss` which is not available. Available metrics are: loss,accuracy\n"
          ]
        },
        {
          "name": "stdout",
          "output_type": "stream",
          "text": [
            "389/389 [==============================] - 38s 97ms/step - loss: 1.7264 - accuracy: 0.5607\n",
            "Epoch 85/100\n",
            "389/389 [==============================] - ETA: 0s - loss: 1.6972 - accuracy: 0.5709"
          ]
        },
        {
          "name": "stderr",
          "output_type": "stream",
          "text": [
            "WARNING:tensorflow:Early stopping conditioned on metric `val_loss` which is not available. Available metrics are: loss,accuracy\n"
          ]
        },
        {
          "name": "stdout",
          "output_type": "stream",
          "text": [
            "389/389 [==============================] - 38s 97ms/step - loss: 1.6972 - accuracy: 0.5709\n",
            "Epoch 86/100\n",
            "389/389 [==============================] - ETA: 0s - loss: 1.6666 - accuracy: 0.5790"
          ]
        },
        {
          "name": "stderr",
          "output_type": "stream",
          "text": [
            "WARNING:tensorflow:Early stopping conditioned on metric `val_loss` which is not available. Available metrics are: loss,accuracy\n"
          ]
        },
        {
          "name": "stdout",
          "output_type": "stream",
          "text": [
            "389/389 [==============================] - 38s 97ms/step - loss: 1.6666 - accuracy: 0.5790\n",
            "Epoch 87/100\n",
            "389/389 [==============================] - ETA: 0s - loss: 1.6432 - accuracy: 0.5881"
          ]
        },
        {
          "name": "stderr",
          "output_type": "stream",
          "text": [
            "WARNING:tensorflow:Early stopping conditioned on metric `val_loss` which is not available. Available metrics are: loss,accuracy\n"
          ]
        },
        {
          "name": "stdout",
          "output_type": "stream",
          "text": [
            "389/389 [==============================] - 38s 98ms/step - loss: 1.6432 - accuracy: 0.5881\n",
            "Epoch 88/100\n",
            "389/389 [==============================] - ETA: 0s - loss: 1.6013 - accuracy: 0.5867"
          ]
        },
        {
          "name": "stderr",
          "output_type": "stream",
          "text": [
            "WARNING:tensorflow:Early stopping conditioned on metric `val_loss` which is not available. Available metrics are: loss,accuracy\n"
          ]
        },
        {
          "name": "stdout",
          "output_type": "stream",
          "text": [
            "389/389 [==============================] - 38s 98ms/step - loss: 1.6013 - accuracy: 0.5867\n",
            "Epoch 89/100\n",
            "389/389 [==============================] - ETA: 0s - loss: 1.5896 - accuracy: 0.5903"
          ]
        },
        {
          "name": "stderr",
          "output_type": "stream",
          "text": [
            "WARNING:tensorflow:Early stopping conditioned on metric `val_loss` which is not available. Available metrics are: loss,accuracy\n"
          ]
        },
        {
          "name": "stdout",
          "output_type": "stream",
          "text": [
            "389/389 [==============================] - 38s 97ms/step - loss: 1.5896 - accuracy: 0.5903\n",
            "Epoch 90/100\n",
            "389/389 [==============================] - ETA: 0s - loss: 1.5694 - accuracy: 0.6025"
          ]
        },
        {
          "name": "stderr",
          "output_type": "stream",
          "text": [
            "WARNING:tensorflow:Early stopping conditioned on metric `val_loss` which is not available. Available metrics are: loss,accuracy\n"
          ]
        },
        {
          "name": "stdout",
          "output_type": "stream",
          "text": [
            "389/389 [==============================] - 38s 97ms/step - loss: 1.5694 - accuracy: 0.6025\n",
            "Epoch 91/100\n",
            "389/389 [==============================] - ETA: 0s - loss: 1.5499 - accuracy: 0.6042"
          ]
        },
        {
          "name": "stderr",
          "output_type": "stream",
          "text": [
            "WARNING:tensorflow:Early stopping conditioned on metric `val_loss` which is not available. Available metrics are: loss,accuracy\n"
          ]
        },
        {
          "name": "stdout",
          "output_type": "stream",
          "text": [
            "389/389 [==============================] - 38s 97ms/step - loss: 1.5499 - accuracy: 0.6042\n",
            "Epoch 92/100\n",
            "389/389 [==============================] - ETA: 0s - loss: 1.4953 - accuracy: 0.6136"
          ]
        },
        {
          "name": "stderr",
          "output_type": "stream",
          "text": [
            "WARNING:tensorflow:Early stopping conditioned on metric `val_loss` which is not available. Available metrics are: loss,accuracy\n"
          ]
        },
        {
          "name": "stdout",
          "output_type": "stream",
          "text": [
            "389/389 [==============================] - 37s 96ms/step - loss: 1.4953 - accuracy: 0.6136\n",
            "Epoch 93/100\n",
            "389/389 [==============================] - ETA: 0s - loss: 1.4943 - accuracy: 0.6195"
          ]
        },
        {
          "name": "stderr",
          "output_type": "stream",
          "text": [
            "WARNING:tensorflow:Early stopping conditioned on metric `val_loss` which is not available. Available metrics are: loss,accuracy\n"
          ]
        },
        {
          "name": "stdout",
          "output_type": "stream",
          "text": [
            "389/389 [==============================] - 37s 96ms/step - loss: 1.4943 - accuracy: 0.6195\n",
            "Epoch 94/100\n",
            "389/389 [==============================] - ETA: 0s - loss: 1.4615 - accuracy: 0.6243"
          ]
        },
        {
          "name": "stderr",
          "output_type": "stream",
          "text": [
            "WARNING:tensorflow:Early stopping conditioned on metric `val_loss` which is not available. Available metrics are: loss,accuracy\n"
          ]
        },
        {
          "name": "stdout",
          "output_type": "stream",
          "text": [
            "389/389 [==============================] - 38s 98ms/step - loss: 1.4615 - accuracy: 0.6243\n",
            "Epoch 95/100\n",
            "389/389 [==============================] - ETA: 0s - loss: 1.4303 - accuracy: 0.6306"
          ]
        },
        {
          "name": "stderr",
          "output_type": "stream",
          "text": [
            "WARNING:tensorflow:Early stopping conditioned on metric `val_loss` which is not available. Available metrics are: loss,accuracy\n"
          ]
        },
        {
          "name": "stdout",
          "output_type": "stream",
          "text": [
            "389/389 [==============================] - 38s 99ms/step - loss: 1.4303 - accuracy: 0.6306\n",
            "Epoch 96/100\n",
            "389/389 [==============================] - ETA: 0s - loss: 1.4204 - accuracy: 0.6296"
          ]
        },
        {
          "name": "stderr",
          "output_type": "stream",
          "text": [
            "WARNING:tensorflow:Early stopping conditioned on metric `val_loss` which is not available. Available metrics are: loss,accuracy\n"
          ]
        },
        {
          "name": "stdout",
          "output_type": "stream",
          "text": [
            "389/389 [==============================] - 38s 97ms/step - loss: 1.4204 - accuracy: 0.6296\n",
            "Epoch 97/100\n",
            "389/389 [==============================] - ETA: 0s - loss: 1.4008 - accuracy: 0.6381"
          ]
        },
        {
          "name": "stderr",
          "output_type": "stream",
          "text": [
            "WARNING:tensorflow:Early stopping conditioned on metric `val_loss` which is not available. Available metrics are: loss,accuracy\n"
          ]
        },
        {
          "name": "stdout",
          "output_type": "stream",
          "text": [
            "389/389 [==============================] - 37s 96ms/step - loss: 1.4008 - accuracy: 0.6381\n",
            "Epoch 98/100\n",
            "389/389 [==============================] - ETA: 0s - loss: 1.3506 - accuracy: 0.6476"
          ]
        },
        {
          "name": "stderr",
          "output_type": "stream",
          "text": [
            "WARNING:tensorflow:Early stopping conditioned on metric `val_loss` which is not available. Available metrics are: loss,accuracy\n"
          ]
        },
        {
          "name": "stdout",
          "output_type": "stream",
          "text": [
            "389/389 [==============================] - 39s 99ms/step - loss: 1.3506 - accuracy: 0.6476\n",
            "Epoch 99/100\n",
            "389/389 [==============================] - ETA: 0s - loss: 1.3397 - accuracy: 0.6538"
          ]
        },
        {
          "name": "stderr",
          "output_type": "stream",
          "text": [
            "WARNING:tensorflow:Early stopping conditioned on metric `val_loss` which is not available. Available metrics are: loss,accuracy\n"
          ]
        },
        {
          "name": "stdout",
          "output_type": "stream",
          "text": [
            "389/389 [==============================] - 38s 97ms/step - loss: 1.3397 - accuracy: 0.6538\n",
            "Epoch 100/100\n",
            "389/389 [==============================] - ETA: 0s - loss: 1.3219 - accuracy: 0.6571"
          ]
        },
        {
          "name": "stderr",
          "output_type": "stream",
          "text": [
            "WARNING:tensorflow:Early stopping conditioned on metric `val_loss` which is not available. Available metrics are: loss,accuracy\n"
          ]
        },
        {
          "name": "stdout",
          "output_type": "stream",
          "text": [
            "\b\b\b\b\b\b\b\b\b\b\b\b\b\b\b\b\b\b\b\b\b\b\b\b\b\b\b\b\b\b\b\b\b\b\b\b\b\b\b\b\b\b\b\b\b\b\b\b\b\b\b\b\b\b\b\b\b\b\b\b\b\b\b\b\b\b\b\b\b\b\b\b\b\b\b\b\b\b\b\b\b\b\b\b\r389/389 [==============================] - 38s 98ms/step - loss: 1.3219 - accuracy: 0.6571\n"
          ]
        },
        {
          "data": {
            "text/plain": [
              "<keras.callbacks.History at 0x7f39997c25e0>"
            ]
          },
          "execution_count": 10,
          "metadata": {},
          "output_type": "execute_result"
        }
      ],
      "source": [
        "model.fit(input_sequences , output_sequences , epochs = 100 ,callbacks=[tb_callback, earlystop_callback])"
      ]
    },
    {
      "cell_type": "code",
      "execution_count": null,
      "metadata": {
        "id": "OfvHd1QSDqQH"
      },
      "outputs": [],
      "source": [
        "# show tensorboard window\n",
        "\n",
        "%load_ext tensorboard\n",
        "%tensorboard --logdir ./logs"
      ]
    },
    {
      "cell_type": "markdown",
      "metadata": {
        "id": "AkZzUUitEORY"
      },
      "source": [
        "# ***Predict and generate seed text :***"
      ]
    },
    {
      "cell_type": "code",
      "execution_count": null,
      "metadata": {
        "id": "EQbNczaZEpvh"
      },
      "outputs": [],
      "source": [
        "def gnr_txt(model , tok ,len_seq ,seed_text , num_tokns) :\n",
        "\n",
        "   # convert seed text to sequences \n",
        "   encoded_seed = tok.texts_to_sequences([seed_text])[0]\n",
        "\n",
        "   # check encoded text \n",
        "   if len(encoded_seed) > len_seq : \n",
        "     encoded_seed = encoded_seed[-len_seq:]\n",
        "   else : \n",
        "     encoded_seed = [0] * (len_seq -len(encoded_seed) ) + encoded_seed\n",
        "\n",
        "   # predict the next word\n",
        "   for _ in range(num_tokns):\n",
        "        seed_sequence = np.reshape(encoded_seed, (1, seq_length))\n",
        "        prediction = model.predict(seed_sequence , use_multiprocessing=True)\n",
        "        next_token = np.argmax(prediction)\n",
        "        encoded_seed.append(next_token)\n",
        "        encoded_seed = encoded_seed[1:]\n",
        "\n",
        "    # convert sequences to texts\n",
        "   generated_text = tokenizer.sequences_to_texts([encoded_seed])[0]\n",
        "    \n",
        "   return generated_text"
      ]
    },
    {
      "cell_type": "code",
      "execution_count": null,
      "metadata": {
        "id": "Ku70p9VHHnsV"
      },
      "outputs": [],
      "source": [
        "# The next word of the text we want to be specified\n",
        "seed_txt = \"i like to know who \"\n",
        "\n",
        "num_tkn = 10\n",
        "final_res = gnr_txt(model , tokenizer , seq_length , seed_txt ,num_tkn)\n",
        "print(seed_txt + final_res)"
      ]
    }
  ],
  "metadata": {
    "accelerator": "GPU",
    "colab": {
      "provenance": [],
      "authorship_tag": "ABX9TyN1lsL3ipAK6HnjOxWLc9d4",
      "include_colab_link": true
    },
    "gpuClass": "standard",
    "kernelspec": {
      "display_name": "Python 3",
      "name": "python3"
    },
    "language_info": {
      "name": "python"
    }
  },
  "nbformat": 4,
  "nbformat_minor": 0
}